{
  "nbformat": 4,
  "nbformat_minor": 0,
  "metadata": {
    "colab": {
      "name": "assignment1",
      "provenance": [],
      "collapsed_sections": []
    },
    "kernelspec": {
      "name": "python3",
      "display_name": "Python 3"
    },
    "language_info": {
      "name": "python"
    }
  },
  "cells": [
    {
      "cell_type": "code",
      "source": [
        "#문제1\n",
        "kor=90\n",
        "mat=80\n",
        "eng=100\n",
        "print(\"kor\",kor)\n",
        "print(\"mat 80\")\n",
        "print(\"eng 100\")\n",
        "print(\"sum\",kor+mat+eng)\n",
        "print(\"avg\",(kor+mat+eng)/3)\n"
      ],
      "metadata": {
        "colab": {
          "base_uri": "https://localhost:8080/"
        },
        "id": "XhP-HoxRD_om",
        "outputId": "fe63bfb0-beb0-433a-9d18-98cadeae931e"
      },
      "execution_count": null,
      "outputs": [
        {
          "output_type": "stream",
          "name": "stdout",
          "text": [
            "kor 90\n",
            "mat 80\n",
            "eng 100\n",
            "sum 270\n",
            "avg 90.0\n"
          ]
        }
      ]
    },
    {
      "cell_type": "code",
      "source": [
        "#문제2\n",
        "print('''\n",
        "TTTTTTTTTT\n",
        "TTTTTTTTTT\n",
        "    TT\n",
        "    TT\n",
        "    TT''')"
      ],
      "metadata": {
        "colab": {
          "base_uri": "https://localhost:8080/"
        },
        "id": "LqlK7CbkGhbD",
        "outputId": "63fb27ba-0fac-4e54-bab4-3805e3ae5666"
      },
      "execution_count": null,
      "outputs": [
        {
          "output_type": "stream",
          "name": "stdout",
          "text": [
            "\n",
            "TTTTTTTTTT\n",
            "TTTTTTTTTT\n",
            "    TT\n",
            "    TT\n",
            "    TT\n"
          ]
        }
      ]
    },
    {
      "cell_type": "code",
      "source": [
        "#문제3\n",
        "a=10\n",
        "b=20\n",
        "sum=30\n",
        "print(a,\"+\",b,\"=\",sum)"
      ],
      "metadata": {
        "colab": {
          "base_uri": "https://localhost:8080/"
        },
        "id": "gQ1qma8bJVIZ",
        "outputId": "dc8cab75-6dad-45ce-f51b-2029b63e290c"
      },
      "execution_count": null,
      "outputs": [
        {
          "output_type": "stream",
          "name": "stdout",
          "text": [
            "10 + 20 = 30\n"
          ]
        }
      ]
    },
    {
      "cell_type": "code",
      "source": [
        "#문제4\n",
        "a=int(input('첫번째 정수를 입력하시오'))\n",
        "b=int(input('두번째 정수를 입력하시오'))\n",
        "c=int(input('세번째 정수를 입력하시오'))\n",
        "sum=a+b+c\n",
        "avg=(a+b+c)/3\n",
        "avg=int(avg)\n",
        "print('sum=',sum)\n",
        "print('avg=',avg)\n",
        "\n",
        "\n",
        "\n",
        "\n",
        "\n",
        "\n",
        "\n"
      ],
      "metadata": {
        "id": "8-mKGB_5KWd7",
        "colab": {
          "base_uri": "https://localhost:8080/"
        },
        "outputId": "14c7e2c2-c9c8-4d84-c1dc-a963ead08ef3"
      },
      "execution_count": null,
      "outputs": [
        {
          "output_type": "stream",
          "name": "stdout",
          "text": [
            "첫번째 정수를 입력하시오20\n",
            "두번째 정수를 입력하시오50\n",
            "세번째 정수를 입력하시오100\n",
            "sum= 170\n",
            "avg= 56\n"
          ]
        }
      ]
    },
    {
      "cell_type": "code",
      "source": [
        "#문제5\n",
        "yard=91.44\n",
        "a=float(input('yard?'))\n",
        "print(a,'yard=',round(yard*a,1))\n",
        "\n"
      ],
      "metadata": {
        "colab": {
          "base_uri": "https://localhost:8080/"
        },
        "id": "pB4K0eU1VpDe",
        "outputId": "4c4e4a47-0dcd-4522-ae4b-02ab7c0697d3"
      },
      "execution_count": null,
      "outputs": [
        {
          "output_type": "stream",
          "name": "stdout",
          "text": [
            "yard?10.1\n",
            "10.1 yard= 923.5\n"
          ]
        }
      ]
    },
    {
      "cell_type": "code",
      "source": [
        ""
      ],
      "metadata": {
        "id": "hyX8Ba0j7MnK"
      },
      "execution_count": null,
      "outputs": []
    }
  ]
}