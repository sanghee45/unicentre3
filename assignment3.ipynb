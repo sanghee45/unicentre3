{
  "nbformat": 4,
  "nbformat_minor": 0,
  "metadata": {
    "colab": {
      "name": "assignment3",
      "provenance": [],
      "collapsed_sections": []
    },
    "kernelspec": {
      "name": "python3",
      "display_name": "Python 3"
    },
    "language_info": {
      "name": "python"
    }
  },
  "cells": [
    {
      "cell_type": "code",
      "execution_count": null,
      "metadata": {
        "colab": {
          "base_uri": "https://localhost:8080/"
        },
        "id": "NcCokt9t96CB",
        "outputId": "4dde9ae1-d7b1-4a50-b71d-33473c5b7ee9"
      },
      "outputs": [
        {
          "output_type": "stream",
          "name": "stdout",
          "text": [
            "정수를 입력하시오0\n",
            "zero\n"
          ]
        }
      ],
      "source": [
        "#문제1\n",
        "a=int(input('정수를 입력하시오'))\n",
        "if a==0: print('zero')\n",
        "elif a>0: print('plus')\n",
        "elif a<0: print('minus')"
      ]
    },
    {
      "cell_type": "code",
      "source": [
        "#문제2\n",
        "x=input('영문 대문자를 입력하시오')\n",
        "if x=='A': print('Excellent')\n",
        "elif x=='B': print('Good')\n",
        "elif x=='C': print('Usually')\n",
        "elif x=='D': print('Effort')\n",
        "elif x=='F': print('Failure')\n",
        "else: print('error')\n"
      ],
      "metadata": {
        "colab": {
          "base_uri": "https://localhost:8080/"
        },
        "id": "FaYzXGbF-rBy",
        "outputId": "a980519e-9f44-4a9d-ce07-f8b4f03a7ca1"
      },
      "execution_count": null,
      "outputs": [
        {
          "output_type": "stream",
          "name": "stdout",
          "text": [
            "영문 대문자를 입력하시오B\n",
            "Good\n"
          ]
        }
      ]
    },
    {
      "cell_type": "code",
      "source": [
        "#문제3\n",
        "number=int(input('number?'))\n",
        "if number==1: print('dog')\n",
        "elif number==2: print('cat')\n",
        "elif number==3: print('chick')\n",
        "else: print(\"I don't know\")"
      ],
      "metadata": {
        "colab": {
          "base_uri": "https://localhost:8080/"
        },
        "id": "EjB1Skwk-lFF",
        "outputId": "228bb3be-3cce-4238-dd12-b3a3969acc30"
      },
      "execution_count": null,
      "outputs": [
        {
          "output_type": "stream",
          "name": "stdout",
          "text": [
            "number?2\n",
            "cat\n"
          ]
        }
      ]
    },
    {
      "cell_type": "code",
      "source": [
        "#문제4\n",
        "a=int(input('1~12사이의 정수를 입력하시오'))\n",
        "if a==1 or a==3 or a==5 or a==7 or a==8 or a==10 or a==12: print(31)\n",
        "elif a==2: print(28)\n",
        "else: print(30)"
      ],
      "metadata": {
        "colab": {
          "base_uri": "https://localhost:8080/"
        },
        "id": "p14-XLrrAUHy",
        "outputId": "9d4989d4-68d5-4bce-aeac-ad6135857e33"
      },
      "execution_count": null,
      "outputs": [
        {
          "output_type": "stream",
          "name": "stdout",
          "text": [
            "1~12사이의 정수를 입력하시오2\n",
            "28\n"
          ]
        }
      ]
    },
    {
      "cell_type": "code",
      "source": [
        "#문제5 \n",
        "a=input('성별(대문자로 남자면 M 여자면 F)')\n",
        "b=int(input('나이'))\n",
        "if a=='M' and b>=18: print('MAN')\n",
        "elif a=='M' and b<18: print('BOY')\n",
        "elif a=='F' and b>=18: print('WOMAN')\n",
        "elif a=='F' and b<18: print('GIRL')"
      ],
      "metadata": {
        "colab": {
          "base_uri": "https://localhost:8080/"
        },
        "id": "Cz-8kb8oEnpc",
        "outputId": "8c77390e-cd1b-42da-840c-07e531ecfda8"
      },
      "execution_count": null,
      "outputs": [
        {
          "output_type": "stream",
          "name": "stdout",
          "text": [
            "성별(대문자로 남자면 M 여자면 F)F\n",
            "나이15\n",
            "GIRL\n"
          ]
        }
      ]
    },
    {
      "cell_type": "code",
      "source": [
        "#문제6\n",
        "a=int(input('년도를 입력하시오'))\n",
        "if a%400 or a%4 and a%100!=0: print('leap year')\n",
        "else: print('common year')"
      ],
      "metadata": {
        "id": "QOcvTus8FGZ6",
        "colab": {
          "base_uri": "https://localhost:8080/"
        },
        "outputId": "9bea2f43-e4f1-4665-e323-4ecf0211770a"
      },
      "execution_count": null,
      "outputs": [
        {
          "output_type": "stream",
          "name": "stdout",
          "text": [
            "년도를 입력하시오2008\n",
            "leap year\n"
          ]
        }
      ]
    },
    {
      "cell_type": "code",
      "source": [
        ""
      ],
      "metadata": {
        "id": "YEwbdhVwqCIA"
      },
      "execution_count": null,
      "outputs": []
    }
  ]
}