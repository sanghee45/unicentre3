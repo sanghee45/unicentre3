{
  "nbformat": 4,
  "nbformat_minor": 0,
  "metadata": {
    "colab": {
      "name": "파이썬 클래스다이아그램과제(박상희)",
      "provenance": []
    },
    "kernelspec": {
      "name": "python3",
      "display_name": "Python 3"
    },
    "language_info": {
      "name": "python"
    }
  },
  "cells": [
    {
      "cell_type": "code",
      "execution_count": 1,
      "metadata": {
        "id": "UBzRil2uugbR"
      },
      "outputs": [],
      "source": [
        "#8장 문제 2\n",
        "\n",
        "class Book:\n",
        "  def __init__(self,__bookName,__bookPrice,__bookDiscountRate):\n",
        "    self.__bookName=__bookName\n",
        "    self.__bookPrice=__bookPrice\n",
        "    self.__bookDiscountRate=__bookDiscountRate\n",
        "  def setBookPrice(self,bookPrice):\n",
        "    self.bookPrice=bookPrice\n",
        "  def getBookPrice(self):\n",
        "    return self.__bookPrice\n",
        "  def getDiscountBookPrice(self):\n",
        "    return self.__bookPrice-self.__bookPrice*__bookDiscountRate\n",
        "  def getBookName(self):\n",
        "    return self.__bookName\n",
        "  def getBookDiscountRate(self):\n",
        "    return self.__bookDiscountRate\n",
        "  def getdiscountxbookprice(self,discount):\n",
        "    self.discount=discount\n",
        "    return self.__bookPrice-self.__bookPrice*self.discount\n",
        "  def getdiscountybookprice(self,discount):\n",
        "    self.discount=discount\n",
        "    return self.__bookPrice-self.__bookPrice*self.discount\n",
        "  def getdiscountzbookprice(self,discount):\n",
        "    self.discount=discount\n",
        "    return self.__bookPrice-self.__bookPrice*self.discount\n"
      ]
    },
    {
      "cell_type": "code",
      "source": [
        "x=Book('SQL Plus',50000,'5%')\n",
        "y=Book('Java 2.0',40000,'3%')\n",
        "z=Book('JSP Servlet',60000,'6%')\n",
        "for i in range(1):\n",
        "  print(x.getBookName(),x.getBookPrice(),'원',x.getBookDiscountRate())\n",
        "  print(y.getBookName(),y.getBookPrice(),'원',y.getBookDiscountRate())\n",
        "  print(z.getBookName(),z.getBookPrice(),'원',z.getBookDiscountRate())\n",
        "print('\\n')\n",
        "print('책 가격의 합',x.getBookPrice()+y.getBookPrice()+z.getBookPrice(),'원')\n",
        "print('할인된 책 가격의 합',x.getdiscountxbookprice(5/100)+y.getdiscountybookprice(3/100)+z.getdiscountzbookprice(6/100))"
      ],
      "metadata": {
        "colab": {
          "base_uri": "https://localhost:8080/"
        },
        "id": "EVxiC3vHupMq",
        "outputId": "6fe8b826-6828-45e9-d66b-2c6c9f2cd896"
      },
      "execution_count": 2,
      "outputs": [
        {
          "output_type": "stream",
          "name": "stdout",
          "text": [
            "SQL Plus 50000 원 5%\n",
            "Java 2.0 40000 원 3%\n",
            "JSP Servlet 60000 원 6%\n",
            "\n",
            "\n",
            "책 가격의 합 150000 원\n",
            "할인된 책 가격의 합 142700.0\n"
          ]
        }
      ]
    },
    {
      "cell_type": "code",
      "source": [
        ""
      ],
      "metadata": {
        "id": "EYwH9zC2usm5"
      },
      "execution_count": null,
      "outputs": []
    }
  ]
}