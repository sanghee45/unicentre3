{
  "nbformat": 4,
  "nbformat_minor": 0,
  "metadata": {
    "colab": {
      "name": "assignment2",
      "provenance": [],
      "collapsed_sections": []
    },
    "kernelspec": {
      "name": "python3",
      "display_name": "Python 3"
    },
    "language_info": {
      "name": "python"
    }
  },
  "cells": [
    {
      "cell_type": "code",
      "execution_count": null,
      "metadata": {
        "colab": {
          "base_uri": "https://localhost:8080/"
        },
        "id": "esiSgQR1GiWJ",
        "outputId": "e3fc42f2-7076-443d-d864-722467467724"
      },
      "outputs": [
        {
          "output_type": "stream",
          "name": "stdout",
          "text": [
            "정수를 입력하시오4\n",
            "정수를 입력하시오5\n",
            "4 > 5 --- 0\n",
            "4 < 5 --- 1\n",
            "4 >= 5 --- 0\n",
            "4 <= 5 --- 1\n"
          ]
        }
      ],
      "source": [
        "#문제1\n",
        "a=int(input('정수를 입력하시오'))\n",
        "b=int(input('정수를 입력하시오'))\n",
        "if a<b:\n",
        "  print(a,'>',b,'---',int(a>b))\n",
        "  print(a,'<',b,'---',int(a<b))\n",
        "  print(a,'>=',b,'---',int(a>=b))\n",
        "  print(a,'<=',b,'---',int(a<=b))\n"
      ]
    },
    {
      "cell_type": "code",
      "source": [
        "#문제2\n",
        "a=int(input('정수를 입력하시오'))\n",
        "b=int(input('정수를 입력하시오'))\n",
        "c=int(input('정수를 입력하시오'))\n",
        "print(int(a>b and a>c),end=' ')\n",
        "print(int(a==b==c))\n",
        " \n"
      ],
      "metadata": {
        "colab": {
          "base_uri": "https://localhost:8080/"
        },
        "id": "rer9D02yHfZF",
        "outputId": "1a4b7b8e-d7e3-4a1f-953d-b455142dbf67"
      },
      "execution_count": null,
      "outputs": [
        {
          "output_type": "stream",
          "name": "stdout",
          "text": [
            "정수를 입력하시오10\n",
            "정수를 입력하시오9\n",
            "정수를 입력하시오9\n",
            "1 0\n"
          ]
        }
      ]
    },
    {
      "cell_type": "code",
      "source": [
        "#문제3\n",
        "a=int(input('정수를 입력하시오'))\n",
        "b=int(input('정수를 입력하시오')) \n",
        "a=a+1\n",
        "b=b-1\n",
        "print(a,end=' ')\n",
        "print(b,end=' ')\n",
        "print((a-1)*b)"
      ],
      "metadata": {
        "colab": {
          "base_uri": "https://localhost:8080/"
        },
        "id": "nRzSUMOjva7f",
        "outputId": "880e3bcf-4412-4296-9f4d-df609c59e4e1"
      },
      "execution_count": null,
      "outputs": [
        {
          "output_type": "stream",
          "name": "stdout",
          "text": [
            "정수를 입력하시오10\n",
            "정수를 입력하시오20\n",
            "11 19 190\n"
          ]
        }
      ]
    },
    {
      "cell_type": "code",
      "source": [
        "#문제4\n",
        "m_h=int(input('키'))\n",
        "m_w=int(input('몸무게')) \n",
        "k_h=int(input('키'))\n",
        "k_w=int(input('몸무게')) \n",
        "print(int(m_h>k_h and m_w>k_h))"
      ],
      "metadata": {
        "colab": {
          "base_uri": "https://localhost:8080/"
        },
        "id": "JhbS23MB1GaP",
        "outputId": "4d62968c-5009-4888-e3e0-bafdfff12108"
      },
      "execution_count": null,
      "outputs": [
        {
          "output_type": "stream",
          "name": "stdout",
          "text": [
            "키150\n",
            "몸무게35\n",
            "키145\n",
            "몸무게35\n",
            "0\n"
          ]
        }
      ]
    }
  ]
}