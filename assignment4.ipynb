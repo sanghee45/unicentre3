{
  "nbformat": 4,
  "nbformat_minor": 0,
  "metadata": {
    "colab": {
      "name": "assignment4",
      "provenance": [],
      "collapsed_sections": []
    },
    "kernelspec": {
      "name": "python3",
      "display_name": "Python 3"
    },
    "language_info": {
      "name": "python"
    }
  },
  "cells": [
    {
      "cell_type": "code",
      "execution_count": null,
      "metadata": {
        "id": "uk54YU4eqXjI",
        "colab": {
          "base_uri": "https://localhost:8080/"
        },
        "outputId": "0a4e07ec-67e7-4443-ca10-8d480418984a"
      },
      "outputs": [
        {
          "output_type": "stream",
          "name": "stdout",
          "text": [
            "100이하의 양의정수만 입력하시오10\n",
            "55\n"
          ]
        }
      ],
      "source": [
        "#문제1\n",
        "sum=0\n",
        "x=1\n",
        "a=int(input('100이하의 양의정수만 입력하시오'))\n",
        "while x <= a :\n",
        "  sum=sum+x\n",
        "  x=x+1\n",
        "print(sum)"
      ]
    },
    {
      "cell_type": "code",
      "source": [
        "#문제2\n",
        "sum=0\n",
        "x=1\n",
        "a=int(input('100이하의 정수를 입력하시오'))\n",
        "for x in range(a,101):\n",
        "  sum=sum+x\n",
        "  x=x+1\n",
        "print(sum)"
      ],
      "metadata": {
        "colab": {
          "base_uri": "https://localhost:8080/"
        },
        "id": "dSV2rETw-y-T",
        "outputId": "bd2965d3-7f3d-4dc1-828f-0a7d62c7c9c8"
      },
      "execution_count": null,
      "outputs": [
        {
          "output_type": "stream",
          "name": "stdout",
          "text": [
            "100이하의 정수를 입력하시오95\n",
            "585\n"
          ]
        }
      ]
    },
    {
      "cell_type": "code",
      "source": [
        "#문제3\n",
        "a=int(input('한개의 자연수를 입력하시오'))\n",
        "x=0\n",
        "while x<a+5:\n",
        "  print(a+a*x,end=\" \")\n",
        "  x=x+1\n"
      ],
      "metadata": {
        "colab": {
          "base_uri": "https://localhost:8080/"
        },
        "id": "d6fTH44fCO0x",
        "outputId": "0d6753c9-f89a-4172-a1c1-2cf585dd428c"
      },
      "execution_count": null,
      "outputs": [
        {
          "output_type": "stream",
          "name": "stdout",
          "text": [
            "한개의 자연수를 입력하시오5\n",
            "5 10 15 20 25 30 35 40 45 50 "
          ]
        }
      ]
    },
    {
      "cell_type": "code",
      "source": [
        "#문제4\n",
        "sum=0\n",
        "x=1\n",
        "a=int(input('100이하의 양의정수만 입력하시오'))\n",
        "while x <= a :\n",
        "  sum=sum+x\n",
        "  x=x+1\n",
        "print(sum)"
      ],
      "metadata": {
        "colab": {
          "base_uri": "https://localhost:8080/"
        },
        "id": "UrXUylRoEZww",
        "outputId": "cf693ba2-1174-4036-c8cd-dfb69fa59baf"
      },
      "execution_count": null,
      "outputs": [
        {
          "output_type": "stream",
          "name": "stdout",
          "text": [
            "100이하의 양의정수만 입력하시오10\n",
            "55\n"
          ]
        }
      ]
    },
    {
      "cell_type": "code",
      "source": [
        "#문제 5는 모르겠습니다\n"
      ],
      "metadata": {
        "id": "quwbZL9YFi78"
      },
      "execution_count": null,
      "outputs": []
    },
    {
      "cell_type": "code",
      "source": [
        "#문제6\n",
        "a='y'\n",
        "while a=='Y' or a=='y':\n",
        "  base=int(input('Base='))\n",
        "  height=int(input('Height='))\n",
        "  print('Triangle width=',base*height/2)\n",
        "  a=input('Continue?')\n",
        "\n"
      ],
      "metadata": {
        "colab": {
          "base_uri": "https://localhost:8080/"
        },
        "id": "OVvRCKG-ZUCt",
        "outputId": "2321aca7-47a3-4446-af90-519779005c93"
      },
      "execution_count": null,
      "outputs": [
        {
          "name": "stdout",
          "output_type": "stream",
          "text": [
            "Base=11\n",
            "Height=5\n",
            "Triangle width= 27.5\n",
            "Continue?y\n",
            "Base=10\n",
            "Height=10\n",
            "Triangle width= 50.0\n",
            "Continue?n\n"
          ]
        }
      ]
    },
    {
      "cell_type": "code",
      "source": [
        "#문제7\n",
        "for x in range(5):\n",
        "  for y in range(2,7):\n",
        "    print(x+y,end=' ')\n",
        "  print('')\n",
        "  \n",
        "  \n"
      ],
      "metadata": {
        "colab": {
          "base_uri": "https://localhost:8080/"
        },
        "id": "4Dr5c59odQzq",
        "outputId": "7b1ce5c4-a3c5-487a-afd4-eb53d7dc63d0"
      },
      "execution_count": null,
      "outputs": [
        {
          "output_type": "stream",
          "name": "stdout",
          "text": [
            "2 3 4 5 6 \n",
            "3 4 5 6 7 \n",
            "4 5 6 7 8 \n",
            "5 6 7 8 9 \n",
            "6 7 8 9 10 \n"
          ]
        }
      ]
    },
    {
      "cell_type": "code",
      "source": [
        ""
      ],
      "metadata": {
        "id": "Gg9vpzo0fS0l"
      },
      "execution_count": null,
      "outputs": []
    }
  ]
}