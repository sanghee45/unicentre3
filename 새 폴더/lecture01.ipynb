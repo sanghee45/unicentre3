{
  "nbformat": 4,
  "nbformat_minor": 0,
  "metadata": {
    "colab": {
      "name": "lecture01",
      "provenance": [],
      "collapsed_sections": []
    },
    "kernelspec": {
      "name": "python3",
      "display_name": "Python 3"
    },
    "language_info": {
      "name": "python"
    }
  },
  "cells": [
    {
      "cell_type": "code",
      "execution_count": 11,
      "metadata": {
        "colab": {
          "base_uri": "https://localhost:8080/"
        },
        "id": "Eygs0zSoKkff",
        "outputId": "9b721f5e-6010-4101-db43-4e25116682db"
      },
      "outputs": [
        {
          "output_type": "stream",
          "name": "stdout",
          "text": [
            "결과값은 14 입니다\n",
            "결과값은2*7입니다\n"
          ]
        }
      ],
      "source": [
        "print(\"결과값은\",2*7,\"입니다\")\n",
        "print(\"결과값은2*7입니다\")\n"
      ]
    },
    {
      "cell_type": "code",
      "source": [
        "ftemp=115\n",
        "ctemp=(ftemp-32)*5/9\n",
        "print(ctemp)"
      ],
      "metadata": {
        "colab": {
          "base_uri": "https://localhost:8080/"
        },
        "id": "MJjIEnGALI4p",
        "outputId": "8d46ad2c-fc6a-4ddb-d650-614902a07d7f"
      },
      "execution_count": 14,
      "outputs": [
        {
          "output_type": "stream",
          "name": "stdout",
          "text": [
            "46.111111111111114\n"
          ]
        }
      ]
    },
    {
      "cell_type": "code",
      "source": [
        "print(\"안녕하세요? 여러분\")\n",
        "print(\"저는 파이썬을 무척 좋아합니다.\")\n",
        "print(\"9*8은 72 입니다.\")\n",
        "print(\"안녕히 계세요\")"
      ],
      "metadata": {
        "colab": {
          "base_uri": "https://localhost:8080/"
        },
        "id": "XRodKA7zdz-3",
        "outputId": "0534a097-d2f9-489c-dc10-b80c78ea3e0f"
      },
      "execution_count": 20,
      "outputs": [
        {
          "output_type": "stream",
          "name": "stdout",
          "text": [
            "안녕하세요? 여러분\n",
            "저는 파이썬을 무척 좋아합니다.\n",
            "9*8은 72 입니다.\n",
            "안녕히 계세요\n"
          ]
        }
      ]
    },
    {
      "cell_type": "code",
      "source": [
        ""
      ],
      "metadata": {
        "id": "-Yo4HYD9YrYV"
      },
      "execution_count": null,
      "outputs": []
    }
  ]
}