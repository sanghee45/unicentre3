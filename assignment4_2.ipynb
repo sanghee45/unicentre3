{
  "nbformat": 4,
  "nbformat_minor": 0,
  "metadata": {
    "colab": {
      "name": "assignment4-2",
      "provenance": [],
      "collapsed_sections": []
    },
    "kernelspec": {
      "name": "python3",
      "display_name": "Python 3"
    },
    "language_info": {
      "name": "python"
    }
  },
  "cells": [
    {
      "cell_type": "code",
      "execution_count": null,
      "metadata": {
        "colab": {
          "base_uri": "https://localhost:8080/"
        },
        "id": "aePDcGu8kqL-",
        "outputId": "90461c64-c9e7-4018-a236-03696a566bd6"
      },
      "outputs": [
        {
          "output_type": "stream",
          "name": "stdout",
          "text": [
            "자연수를 입력하시오100\n",
            "10 100\n"
          ]
        }
      ],
      "source": [
        "#문제1\n",
        "n=int(input('자연수를 입력하시오'))\n",
        "i=1\n",
        "li=[]\n",
        "while sum(li)<n:\n",
        "  li.append(i)\n",
        "  i=i+2\n",
        "print(len(li),sum(li))\n"
      ]
    },
    {
      "cell_type": "code",
      "source": [
        "#문제2-실패\n",
        "a=int(input('2~9까지의 수 하나를 입력하시오'))\n",
        "b=int(input('2~9까지의 수 하나를 입력하시오'))\n",
        "for x in range(1,10):\n",
        "  for y in range(a,b+1,-1):\n",
        "    print(a,'*',x,'=',a*x,end='   ')\n",
        "    print(b,'*',x,'=',b*x)\n",
        "    "
      ],
      "metadata": {
        "colab": {
          "base_uri": "https://localhost:8080/"
        },
        "id": "ben1IcqWBiE-",
        "outputId": "55a2cba1-8c38-4eda-cadf-529374861abd"
      },
      "execution_count": 94,
      "outputs": [
        {
          "output_type": "stream",
          "name": "stdout",
          "text": [
            "2~9까지의 수 하나를 입력하시오5\n",
            "2~9까지의 수 하나를 입력하시오3\n",
            "5 * 1 = 5   3 * 1 = 3\n",
            "5 * 2 = 10   3 * 2 = 6\n",
            "5 * 3 = 15   3 * 3 = 9\n",
            "5 * 4 = 20   3 * 4 = 12\n",
            "5 * 5 = 25   3 * 5 = 15\n",
            "5 * 6 = 30   3 * 6 = 18\n",
            "5 * 7 = 35   3 * 7 = 21\n",
            "5 * 8 = 40   3 * 8 = 24\n",
            "5 * 9 = 45   3 * 9 = 27\n"
          ]
        }
      ]
    },
    {
      "cell_type": "code",
      "source": [
        "#문제3-실패"
      ],
      "metadata": {
        "id": "8aK99k-3HGq3"
      },
      "execution_count": null,
      "outputs": []
    },
    {
      "cell_type": "code",
      "source": [
        "#문제4\n",
        "n=int(input('자연수를 입력하시오'))\n",
        "for x in range(1,n+1):\n",
        "  print('*'*x)\n",
        "  x+=1\n",
        "\n"
      ],
      "metadata": {
        "colab": {
          "base_uri": "https://localhost:8080/"
        },
        "id": "F9KlSmi2CdWT",
        "outputId": "3b9fc5cf-6d5c-4b4f-fe1e-3672fd56e5db"
      },
      "execution_count": 100,
      "outputs": [
        {
          "output_type": "stream",
          "name": "stdout",
          "text": [
            "자연수를 입력하시오5\n",
            "*\n",
            "**\n",
            "***\n",
            "****\n",
            "*****\n"
          ]
        }
      ]
    },
    {
      "cell_type": "code",
      "source": [
        "#문제5\n",
        "n=int(input('자연수를 입력하시오'))\n",
        "for x in range(n+2,n-1,-2):\n",
        "  print('*'*x,)\n",
        "print('*')"
      ],
      "metadata": {
        "colab": {
          "base_uri": "https://localhost:8080/"
        },
        "id": "FIbumnlDFtJl",
        "outputId": "871945d3-2a43-43d0-df43-530aec650143"
      },
      "execution_count": 120,
      "outputs": [
        {
          "output_type": "stream",
          "name": "stdout",
          "text": [
            "자연수를 입력하시오3\n",
            "*****\n",
            "***\n",
            "*\n"
          ]
        }
      ]
    },
    {
      "cell_type": "code",
      "source": [
        "#문제6\n",
        "n=int(input('1부터 100까지의 정수 중 하나를 입력하시오'))\n",
        "for x in range(1,101):\n",
        "  print(n*x,end=' ')\n",
        "  if x%10==0:\n",
        "    break\n",
        "\n"
      ],
      "metadata": {
        "colab": {
          "base_uri": "https://localhost:8080/"
        },
        "id": "TqEHEjpVGhK9",
        "outputId": "43c6990f-d093-4898-821e-76060a1ad993"
      },
      "execution_count": 127,
      "outputs": [
        {
          "output_type": "stream",
          "name": "stdout",
          "text": [
            "1부터 100까지의 정수 중 하나를 입력하시오7\n",
            "7 14 21 28 35 42 49 56 63 70 "
          ]
        }
      ]
    },
    {
      "cell_type": "code",
      "source": [
        "#문제7,8,9는 못풀겠습니다.\n",
        "n=int(input('자연수를 입력하시오'))\n",
        "for x in range(1,n-1):\n",
        "  print(x)\n",
        "\n"
      ],
      "metadata": {
        "colab": {
          "base_uri": "https://localhost:8080/"
        },
        "id": "TpV1qGPfITQh",
        "outputId": "05a3cae1-ba4a-4c3c-c7e9-2004a33c0005"
      },
      "execution_count": 134,
      "outputs": [
        {
          "output_type": "stream",
          "name": "stdout",
          "text": [
            "자연수를 입력하시오3\n",
            "1\n"
          ]
        }
      ]
    },
    {
      "cell_type": "code",
      "source": [
        ""
      ],
      "metadata": {
        "id": "URiG9IqbJswA"
      },
      "execution_count": null,
      "outputs": []
    }
  ]
}